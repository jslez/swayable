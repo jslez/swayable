{
 "cells": [
  {
   "cell_type": "code",
   "execution_count": 5,
   "metadata": {},
   "outputs": [
    {
     "data": {
      "text/plain": [
       "'3.3.0'"
      ]
     },
     "execution_count": 5,
     "metadata": {},
     "output_type": "execute_result"
    }
   ],
   "source": [
    "import plotly\n",
    "plotly.__version__"
   ]
  },
  {
   "cell_type": "code",
   "execution_count": 6,
   "metadata": {},
   "outputs": [
    {
     "name": "stderr",
     "output_type": "stream",
     "text": [
      "/Users/james/anaconda3/lib/python3.6/site-packages/plotly/tools.py:1516: UserWarning:\n",
      "\n",
      "plotly.tools.FigureFactory.create_table is deprecated. Use plotly.figure_factory.create_table\n",
      "\n"
     ]
    },
    {
     "data": {
      "text/html": [
       "<iframe id=\"igraph\" scrolling=\"no\" style=\"border:none;\" seamless=\"seamless\" src=\"https://plot.ly/~jslezak/9.embed\" height=\"380px\" width=\"100%\"></iframe>"
      ],
      "text/plain": [
       "<plotly.tools.PlotlyDisplay object>"
      ]
     },
     "execution_count": 6,
     "metadata": {},
     "output_type": "execute_result"
    }
   ],
   "source": [
    "import plotly.plotly as py\n",
    "from plotly.grid_objs import Grid, Column\n",
    "from plotly.tools import FigureFactory as FF \n",
    "\n",
    "import pandas as pd\n",
    "import time\n",
    "\n",
    "url = 'https://raw.githubusercontent.com/jslez/swayable/master/feasibilitydataforbubblechart.csv'\n",
    "dataset = pd.read_csv(url)\n",
    "\n",
    "table = FF.create_table(dataset.head(10))\n",
    "py.iplot(table, filename='animations-gapminder-data-preview')"
   ]
  },
  {
   "cell_type": "code",
   "execution_count": 7,
   "metadata": {},
   "outputs": [
    {
     "data": {
      "text/plain": [
       "'https://plot.ly/~jslezak/23/'"
      ]
     },
     "execution_count": 7,
     "metadata": {},
     "output_type": "execute_result"
    }
   ],
   "source": [
    "years_from_col = set(dataset['year'])\n",
    "years_ints = sorted(list(years_from_col))\n",
    "years = [str(year) for year in years_ints]\n",
    "\n",
    "# make list of continents\n",
    "continents = []\n",
    "for continent in dataset['continent']:\n",
    "    if continent not in continents: \n",
    "        continents.append(continent)\n",
    "\n",
    "columns = []\n",
    "# make grid\n",
    "for year in years:\n",
    "    for continent in continents:\n",
    "        dataset_by_year = dataset[dataset['year'] == int(year)]\n",
    "        dataset_by_year_and_cont = dataset_by_year[dataset_by_year['continent'] == continent]\n",
    "        for col_name in dataset_by_year_and_cont:\n",
    "            # each column name is unique\n",
    "            column_name = '{year}_{continent}_{header}_gapminder_grid'.format(\n",
    "                year=year, continent=continent, header=col_name\n",
    "            )\n",
    "            a_column = Column(list(dataset_by_year_and_cont[col_name]), column_name)\n",
    "            columns.append(a_column)\n",
    "\n",
    "# upload grid\n",
    "grid = Grid(columns)\n",
    "url = py.grid_ops.upload(grid, 'gapminder_grid'+str(time.time()), auto_open=False)\n",
    "url"
   ]
  },
  {
   "cell_type": "code",
   "execution_count": 8,
   "metadata": {},
   "outputs": [],
   "source": [
    "figure = {\n",
    "    'data': [],\n",
    "    'layout': {},\n",
    "    'frames': [],\n",
    "    'config': {'scrollzoom': True}\n",
    "}\n",
    "\n",
    "# fill in most of layout\n",
    "figure['layout']['xaxis'] = {'range': [30, 85], 'title': 'Total Population', 'gridcolor': '#FFFFFF'}\n",
    "figure['layout']['yaxis'] = {'title': 'Days to Complete','type': 'log', 'gridcolor': '#FFFFFF'}\n",
    "figure['layout']['hovermode'] = 'closest'\n",
    "figure['layout']['plot_bgcolor'] = 'rgb(223, 232, 243)'"
   ]
  },
  {
   "cell_type": "code",
   "execution_count": 9,
   "metadata": {},
   "outputs": [],
   "source": [
    "figure['layout']['sliders'] = {\n",
    "    'active': 0,\n",
    "    'yanchor': 'top',\n",
    "    'xanchor': 'left',\n",
    "    'currentvalue': {\n",
    "        'font': {'size': 20},\n",
    "        'prefix': 'text-before-value-on-display',\n",
    "        'visible': True,\n",
    "        'xanchor': 'right'\n",
    "    },\n",
    "    'transition': {'duration': 300, 'easing': 'cubic-in-out'},\n",
    "    'pad': {'b': 10, 't': 50},\n",
    "    'len': 0.9,\n",
    "    'x': 0.1,\n",
    "    'y': 0,\n",
    "    'steps': [...]\n",
    "}"
   ]
  },
  {
   "cell_type": "code",
   "execution_count": 10,
   "metadata": {},
   "outputs": [
    {
     "data": {
      "text/plain": [
       "{'method': 'animate',\n",
       " 'label': 'label-for-frame',\n",
       " 'value': 'value-for-frame(defaults to label)',\n",
       " 'args': [{'frame': {'duration': 300, 'redraw': False}, 'mode': 'immediate'}]}"
      ]
     },
     "execution_count": 10,
     "metadata": {},
     "output_type": "execute_result"
    }
   ],
   "source": [
    "{\n",
    "    'method': 'animate',\n",
    "    'label': 'label-for-frame',\n",
    "    'value': 'value-for-frame(defaults to label)',\n",
    "    'args': [{'frame': {'duration': 300, 'redraw': False},\n",
    "         'mode': 'immediate'}\n",
    "    ],\n",
    "}"
   ]
  },
  {
   "cell_type": "code",
   "execution_count": 11,
   "metadata": {},
   "outputs": [],
   "source": [
    "sliders_dict = {\n",
    "    'active': 0,\n",
    "    'yanchor': 'top',\n",
    "    'xanchor': 'left',\n",
    "    'currentvalue': {\n",
    "        'font': {'size': 20},\n",
    "        'prefix': 'Year:',\n",
    "        'visible': True,\n",
    "        'xanchor': 'right'\n",
    "    },\n",
    "    'transition': {'duration': 300, 'easing': 'cubic-in-out'},\n",
    "    'pad': {'b': 10, 't': 50},\n",
    "    'len': 0.9,\n",
    "    'x': 0,\n",
    "    'y': 0,\n",
    "    'steps': []\n",
    "}"
   ]
  },
  {
   "cell_type": "code",
   "execution_count": 12,
   "metadata": {},
   "outputs": [],
   "source": [
    "figure['layout']['updatemenus'] = [\n",
    "    {\n",
    "        'direction': 'left',\n",
    "        'pad': {'r': 10, 't': 87},\n",
    "        'showactive': False,\n",
    "        'type': 'buttons',\n",
    "        'x': 0.1,\n",
    "        'xanchor': 'right',\n",
    "        'y': 0,\n",
    "        'yanchor': 'top'\n",
    "    }\n",
    "]\n",
    "\n",
    "custom_colors = {\n",
    "    'Asia': 'rgb(171, 99, 250)',\n",
    "    'Europe': 'rgb(230, 99, 250)',\n",
    "    'Africa': 'rgb(99, 110, 250)',\n",
    "    'Americas': 'rgb(25, 211, 243)',\n",
    "    'Oceania': 'rgb(50, 170, 255)'\n",
    "}"
   ]
  },
  {
   "cell_type": "code",
   "execution_count": 13,
   "metadata": {},
   "outputs": [
    {
     "ename": "PlotlyError",
     "evalue": "Whoops, that column name doesn't match any of the column names in your grid. You must pick from ['0_peanutlabs_country_gapminder_grid', '0_peanutlabs_year_gapminder_grid', '0_peanutlabs_pop_gapminder_grid', '0_peanutlabs_continent_gapminder_grid', '0_peanutlabs_lifeExp_gapminder_grid', '0_peanutlabs_gdpPercap_gapminder_grid', '0_prodege_country_gapminder_grid', '0_prodege_year_gapminder_grid', '0_prodege_pop_gapminder_grid', '0_prodege_continent_gapminder_grid', '0_prodege_lifeExp_gapminder_grid', '0_prodege_gdpPercap_gapminder_grid', '0_tapresearch_country_gapminder_grid', '0_tapresearch_year_gapminder_grid', '0_tapresearch_pop_gapminder_grid', '0_tapresearch_continent_gapminder_grid', '0_tapresearch_lifeExp_gapminder_grid', '0_tapresearch_gdpPercap_gapminder_grid', '1_peanutlabs_country_gapminder_grid', '1_peanutlabs_year_gapminder_grid', '1_peanutlabs_pop_gapminder_grid', '1_peanutlabs_continent_gapminder_grid', '1_peanutlabs_lifeExp_gapminder_grid', '1_peanutlabs_gdpPercap_gapminder_grid', '1_prodege_country_gapminder_grid', '1_prodege_year_gapminder_grid', '1_prodege_pop_gapminder_grid', '1_prodege_continent_gapminder_grid', '1_prodege_lifeExp_gapminder_grid', '1_prodege_gdpPercap_gapminder_grid', '1_tapresearch_country_gapminder_grid', '1_tapresearch_year_gapminder_grid', '1_tapresearch_pop_gapminder_grid', '1_tapresearch_continent_gapminder_grid', '1_tapresearch_lifeExp_gapminder_grid', '1_tapresearch_gdpPercap_gapminder_grid', '2_peanutlabs_country_gapminder_grid', '2_peanutlabs_year_gapminder_grid', '2_peanutlabs_pop_gapminder_grid', '2_peanutlabs_continent_gapminder_grid', '2_peanutlabs_lifeExp_gapminder_grid', '2_peanutlabs_gdpPercap_gapminder_grid', '2_prodege_country_gapminder_grid', '2_prodege_year_gapminder_grid', '2_prodege_pop_gapminder_grid', '2_prodege_continent_gapminder_grid', '2_prodege_lifeExp_gapminder_grid', '2_prodege_gdpPercap_gapminder_grid', '2_tapresearch_country_gapminder_grid', '2_tapresearch_year_gapminder_grid', '2_tapresearch_pop_gapminder_grid', '2_tapresearch_continent_gapminder_grid', '2_tapresearch_lifeExp_gapminder_grid', '2_tapresearch_gdpPercap_gapminder_grid', '3_peanutlabs_country_gapminder_grid', '3_peanutlabs_year_gapminder_grid', '3_peanutlabs_pop_gapminder_grid', '3_peanutlabs_continent_gapminder_grid', '3_peanutlabs_lifeExp_gapminder_grid', '3_peanutlabs_gdpPercap_gapminder_grid', '3_prodege_country_gapminder_grid', '3_prodege_year_gapminder_grid', '3_prodege_pop_gapminder_grid', '3_prodege_continent_gapminder_grid', '3_prodege_lifeExp_gapminder_grid', '3_prodege_gdpPercap_gapminder_grid', '3_tapresearch_country_gapminder_grid', '3_tapresearch_year_gapminder_grid', '3_tapresearch_pop_gapminder_grid', '3_tapresearch_continent_gapminder_grid', '3_tapresearch_lifeExp_gapminder_grid', '3_tapresearch_gdpPercap_gapminder_grid', '4_peanutlabs_country_gapminder_grid', '4_peanutlabs_year_gapminder_grid', '4_peanutlabs_pop_gapminder_grid', '4_peanutlabs_continent_gapminder_grid', '4_peanutlabs_lifeExp_gapminder_grid', '4_peanutlabs_gdpPercap_gapminder_grid', '4_prodege_country_gapminder_grid', '4_prodege_year_gapminder_grid', '4_prodege_pop_gapminder_grid', '4_prodege_continent_gapminder_grid', '4_prodege_lifeExp_gapminder_grid', '4_prodege_gdpPercap_gapminder_grid', '4_tapresearch_country_gapminder_grid', '4_tapresearch_year_gapminder_grid', '4_tapresearch_pop_gapminder_grid', '4_tapresearch_continent_gapminder_grid', '4_tapresearch_lifeExp_gapminder_grid', '4_tapresearch_gdpPercap_gapminder_grid', '5_peanutlabs_country_gapminder_grid', '5_peanutlabs_year_gapminder_grid', '5_peanutlabs_pop_gapminder_grid', '5_peanutlabs_continent_gapminder_grid', '5_peanutlabs_lifeExp_gapminder_grid', '5_peanutlabs_gdpPercap_gapminder_grid', '5_prodege_country_gapminder_grid', '5_prodege_year_gapminder_grid', '5_prodege_pop_gapminder_grid', '5_prodege_continent_gapminder_grid', '5_prodege_lifeExp_gapminder_grid', '5_prodege_gdpPercap_gapminder_grid', '5_tapresearch_country_gapminder_grid', '5_tapresearch_year_gapminder_grid', '5_tapresearch_pop_gapminder_grid', '5_tapresearch_continent_gapminder_grid', '5_tapresearch_lifeExp_gapminder_grid', '5_tapresearch_gdpPercap_gapminder_grid', '6_peanutlabs_country_gapminder_grid', '6_peanutlabs_year_gapminder_grid', '6_peanutlabs_pop_gapminder_grid', '6_peanutlabs_continent_gapminder_grid', '6_peanutlabs_lifeExp_gapminder_grid', '6_peanutlabs_gdpPercap_gapminder_grid', '6_prodege_country_gapminder_grid', '6_prodege_year_gapminder_grid', '6_prodege_pop_gapminder_grid', '6_prodege_continent_gapminder_grid', '6_prodege_lifeExp_gapminder_grid', '6_prodege_gdpPercap_gapminder_grid', '6_tapresearch_country_gapminder_grid', '6_tapresearch_year_gapminder_grid', '6_tapresearch_pop_gapminder_grid', '6_tapresearch_continent_gapminder_grid', '6_tapresearch_lifeExp_gapminder_grid', '6_tapresearch_gdpPercap_gapminder_grid', '7_peanutlabs_country_gapminder_grid', '7_peanutlabs_year_gapminder_grid', '7_peanutlabs_pop_gapminder_grid', '7_peanutlabs_continent_gapminder_grid', '7_peanutlabs_lifeExp_gapminder_grid', '7_peanutlabs_gdpPercap_gapminder_grid', '7_prodege_country_gapminder_grid', '7_prodege_year_gapminder_grid', '7_prodege_pop_gapminder_grid', '7_prodege_continent_gapminder_grid', '7_prodege_lifeExp_gapminder_grid', '7_prodege_gdpPercap_gapminder_grid', '7_tapresearch_country_gapminder_grid', '7_tapresearch_year_gapminder_grid', '7_tapresearch_pop_gapminder_grid', '7_tapresearch_continent_gapminder_grid', '7_tapresearch_lifeExp_gapminder_grid', '7_tapresearch_gdpPercap_gapminder_grid']",
     "output_type": "error",
     "traceback": [
      "\u001b[0;31m---------------------------------------------------------------------------\u001b[0m",
      "\u001b[0;31mPlotlyError\u001b[0m                               Traceback (most recent call last)",
      "\u001b[0;32m<ipython-input-13-754b48280640>\u001b[0m in \u001b[0;36m<module>\u001b[0;34m()\u001b[0m\n\u001b[1;32m      4\u001b[0m     data_dict = {\n\u001b[1;32m      5\u001b[0m         'xsrc': grid.get_column_reference(col_name_template.format(\n\u001b[0;32m----> 6\u001b[0;31m             \u001b[0myear\u001b[0m\u001b[0;34m=\u001b[0m\u001b[0myear\u001b[0m\u001b[0;34m,\u001b[0m \u001b[0mcontinent\u001b[0m\u001b[0;34m=\u001b[0m\u001b[0mcontinent\u001b[0m\u001b[0;34m,\u001b[0m \u001b[0mheader\u001b[0m\u001b[0;34m=\u001b[0m\u001b[0;34m'lifeExp'\u001b[0m\u001b[0;34m\u001b[0m\u001b[0m\n\u001b[0m\u001b[1;32m      7\u001b[0m         )),\n\u001b[1;32m      8\u001b[0m         'ysrc': grid.get_column_reference(col_name_template.format(\n",
      "\u001b[0;32m~/anaconda3/lib/python3.6/site-packages/plotly/grid_objs/grid_objs.py\u001b[0m in \u001b[0;36mget_column_reference\u001b[0;34m(self, column_name)\u001b[0m\n\u001b[1;32m    290\u001b[0m             raise exceptions.PlotlyError(\n\u001b[1;32m    291\u001b[0m                 \u001b[0;34m\"Whoops, that column name doesn't match any of the column \"\u001b[0m\u001b[0;34m\u001b[0m\u001b[0m\n\u001b[0;32m--> 292\u001b[0;31m                 \u001b[0;34m\"names in your grid. You must pick from {cols}\"\u001b[0m\u001b[0;34m.\u001b[0m\u001b[0mformat\u001b[0m\u001b[0;34m(\u001b[0m\u001b[0mcols\u001b[0m\u001b[0;34m=\u001b[0m\u001b[0mcol_names\u001b[0m\u001b[0;34m)\u001b[0m\u001b[0;34m\u001b[0m\u001b[0m\n\u001b[0m\u001b[1;32m    293\u001b[0m             )\n\u001b[1;32m    294\u001b[0m         \u001b[0;32mreturn\u001b[0m \u001b[0mcolumn_id\u001b[0m\u001b[0;34m\u001b[0m\u001b[0m\n",
      "\u001b[0;31mPlotlyError\u001b[0m: Whoops, that column name doesn't match any of the column names in your grid. You must pick from ['0_peanutlabs_country_gapminder_grid', '0_peanutlabs_year_gapminder_grid', '0_peanutlabs_pop_gapminder_grid', '0_peanutlabs_continent_gapminder_grid', '0_peanutlabs_lifeExp_gapminder_grid', '0_peanutlabs_gdpPercap_gapminder_grid', '0_prodege_country_gapminder_grid', '0_prodege_year_gapminder_grid', '0_prodege_pop_gapminder_grid', '0_prodege_continent_gapminder_grid', '0_prodege_lifeExp_gapminder_grid', '0_prodege_gdpPercap_gapminder_grid', '0_tapresearch_country_gapminder_grid', '0_tapresearch_year_gapminder_grid', '0_tapresearch_pop_gapminder_grid', '0_tapresearch_continent_gapminder_grid', '0_tapresearch_lifeExp_gapminder_grid', '0_tapresearch_gdpPercap_gapminder_grid', '1_peanutlabs_country_gapminder_grid', '1_peanutlabs_year_gapminder_grid', '1_peanutlabs_pop_gapminder_grid', '1_peanutlabs_continent_gapminder_grid', '1_peanutlabs_lifeExp_gapminder_grid', '1_peanutlabs_gdpPercap_gapminder_grid', '1_prodege_country_gapminder_grid', '1_prodege_year_gapminder_grid', '1_prodege_pop_gapminder_grid', '1_prodege_continent_gapminder_grid', '1_prodege_lifeExp_gapminder_grid', '1_prodege_gdpPercap_gapminder_grid', '1_tapresearch_country_gapminder_grid', '1_tapresearch_year_gapminder_grid', '1_tapresearch_pop_gapminder_grid', '1_tapresearch_continent_gapminder_grid', '1_tapresearch_lifeExp_gapminder_grid', '1_tapresearch_gdpPercap_gapminder_grid', '2_peanutlabs_country_gapminder_grid', '2_peanutlabs_year_gapminder_grid', '2_peanutlabs_pop_gapminder_grid', '2_peanutlabs_continent_gapminder_grid', '2_peanutlabs_lifeExp_gapminder_grid', '2_peanutlabs_gdpPercap_gapminder_grid', '2_prodege_country_gapminder_grid', '2_prodege_year_gapminder_grid', '2_prodege_pop_gapminder_grid', '2_prodege_continent_gapminder_grid', '2_prodege_lifeExp_gapminder_grid', '2_prodege_gdpPercap_gapminder_grid', '2_tapresearch_country_gapminder_grid', '2_tapresearch_year_gapminder_grid', '2_tapresearch_pop_gapminder_grid', '2_tapresearch_continent_gapminder_grid', '2_tapresearch_lifeExp_gapminder_grid', '2_tapresearch_gdpPercap_gapminder_grid', '3_peanutlabs_country_gapminder_grid', '3_peanutlabs_year_gapminder_grid', '3_peanutlabs_pop_gapminder_grid', '3_peanutlabs_continent_gapminder_grid', '3_peanutlabs_lifeExp_gapminder_grid', '3_peanutlabs_gdpPercap_gapminder_grid', '3_prodege_country_gapminder_grid', '3_prodege_year_gapminder_grid', '3_prodege_pop_gapminder_grid', '3_prodege_continent_gapminder_grid', '3_prodege_lifeExp_gapminder_grid', '3_prodege_gdpPercap_gapminder_grid', '3_tapresearch_country_gapminder_grid', '3_tapresearch_year_gapminder_grid', '3_tapresearch_pop_gapminder_grid', '3_tapresearch_continent_gapminder_grid', '3_tapresearch_lifeExp_gapminder_grid', '3_tapresearch_gdpPercap_gapminder_grid', '4_peanutlabs_country_gapminder_grid', '4_peanutlabs_year_gapminder_grid', '4_peanutlabs_pop_gapminder_grid', '4_peanutlabs_continent_gapminder_grid', '4_peanutlabs_lifeExp_gapminder_grid', '4_peanutlabs_gdpPercap_gapminder_grid', '4_prodege_country_gapminder_grid', '4_prodege_year_gapminder_grid', '4_prodege_pop_gapminder_grid', '4_prodege_continent_gapminder_grid', '4_prodege_lifeExp_gapminder_grid', '4_prodege_gdpPercap_gapminder_grid', '4_tapresearch_country_gapminder_grid', '4_tapresearch_year_gapminder_grid', '4_tapresearch_pop_gapminder_grid', '4_tapresearch_continent_gapminder_grid', '4_tapresearch_lifeExp_gapminder_grid', '4_tapresearch_gdpPercap_gapminder_grid', '5_peanutlabs_country_gapminder_grid', '5_peanutlabs_year_gapminder_grid', '5_peanutlabs_pop_gapminder_grid', '5_peanutlabs_continent_gapminder_grid', '5_peanutlabs_lifeExp_gapminder_grid', '5_peanutlabs_gdpPercap_gapminder_grid', '5_prodege_country_gapminder_grid', '5_prodege_year_gapminder_grid', '5_prodege_pop_gapminder_grid', '5_prodege_continent_gapminder_grid', '5_prodege_lifeExp_gapminder_grid', '5_prodege_gdpPercap_gapminder_grid', '5_tapresearch_country_gapminder_grid', '5_tapresearch_year_gapminder_grid', '5_tapresearch_pop_gapminder_grid', '5_tapresearch_continent_gapminder_grid', '5_tapresearch_lifeExp_gapminder_grid', '5_tapresearch_gdpPercap_gapminder_grid', '6_peanutlabs_country_gapminder_grid', '6_peanutlabs_year_gapminder_grid', '6_peanutlabs_pop_gapminder_grid', '6_peanutlabs_continent_gapminder_grid', '6_peanutlabs_lifeExp_gapminder_grid', '6_peanutlabs_gdpPercap_gapminder_grid', '6_prodege_country_gapminder_grid', '6_prodege_year_gapminder_grid', '6_prodege_pop_gapminder_grid', '6_prodege_continent_gapminder_grid', '6_prodege_lifeExp_gapminder_grid', '6_prodege_gdpPercap_gapminder_grid', '6_tapresearch_country_gapminder_grid', '6_tapresearch_year_gapminder_grid', '6_tapresearch_pop_gapminder_grid', '6_tapresearch_continent_gapminder_grid', '6_tapresearch_lifeExp_gapminder_grid', '6_tapresearch_gdpPercap_gapminder_grid', '7_peanutlabs_country_gapminder_grid', '7_peanutlabs_year_gapminder_grid', '7_peanutlabs_pop_gapminder_grid', '7_peanutlabs_continent_gapminder_grid', '7_peanutlabs_lifeExp_gapminder_grid', '7_peanutlabs_gdpPercap_gapminder_grid', '7_prodege_country_gapminder_grid', '7_prodege_year_gapminder_grid', '7_prodege_pop_gapminder_grid', '7_prodege_continent_gapminder_grid', '7_prodege_lifeExp_gapminder_grid', '7_prodege_gdpPercap_gapminder_grid', '7_tapresearch_country_gapminder_grid', '7_tapresearch_year_gapminder_grid', '7_tapresearch_pop_gapminder_grid', '7_tapresearch_continent_gapminder_grid', '7_tapresearch_lifeExp_gapminder_grid', '7_tapresearch_gdpPercap_gapminder_grid']"
     ]
    }
   ],
   "source": [
    "col_name_template = '{year}_{continent}_{header}_gapminder_grid'\n",
    "year = 1952\n",
    "for continent in continents:\n",
    "    data_dict = {\n",
    "        'xsrc': grid.get_column_reference(col_name_template.format(\n",
    "            year=year, continent=continent, header='lifeExp'\n",
    "        )),\n",
    "        'ysrc': grid.get_column_reference(col_name_template.format(\n",
    "            year=year, continent=continent, header='gdpPercap'\n",
    "        )),\n",
    "        'mode': 'markers',\n",
    "        'textsrc': grid.get_column_reference(col_name_template.format(\n",
    "            year=year, continent=continent, header='country'\n",
    "        )),\n",
    "        'marker': {\n",
    "            'sizemode': 'area',\n",
    "            'sizeref': 200000,\n",
    "            'sizesrc': grid.get_column_reference(col_name_template.format(\n",
    "                 year=year, continent=continent, header='pop'\n",
    "            )),\n",
    "            'color': custom_colors[continent]\n",
    "        },\n",
    "        'name': continent\n",
    "    }\n",
    "    figure['data'].append(data_dict)"
   ]
  },
  {
   "cell_type": "code",
   "execution_count": null,
   "metadata": {},
   "outputs": [],
   "source": [
    "for year in years:\n",
    "    frame = {'data': [], 'name': str(year)}\n",
    "    for continent in continents:\n",
    "        data_dict = {\n",
    "            'xsrc': grid.get_column_reference(col_name_template.format(\n",
    "                year=year, continent=continent, header='lifeExp'\n",
    "            )),\n",
    "            'ysrc': grid.get_column_reference(col_name_template.format(\n",
    "                year=year, continent=continent, header='gdpPercap'\n",
    "            )),\n",
    "            'mode': 'markers',\n",
    "            'textsrc': grid.get_column_reference(col_name_template.format(\n",
    "                year=year, continent=continent, header='country'\n",
    "                )),\n",
    "            'marker': {\n",
    "                'sizemode': 'area',\n",
    "                'sizeref': 200000,\n",
    "                'sizesrc': grid.get_column_reference(col_name_template.format(\n",
    "                    year=year, continent=continent, header='pop'\n",
    "                )),\n",
    "                'color': custom_colors[continent]\n",
    "            },\n",
    "            'name': continent\n",
    "        }\n",
    "        frame['data'].append(data_dict)\n",
    "\n",
    "    figure['frames'].append(frame)\n",
    "    slider_step = {'args': [\n",
    "        [year],\n",
    "        {'frame': {'duration': 300, 'redraw': False},\n",
    "         'mode': 'immediate',\n",
    "       'transition': {'duration': 300}}\n",
    "     ],\n",
    "     'label': year,\n",
    "     'method': 'animate'}\n",
    "    sliders_dict['steps'].append(slider_step)\n",
    "\n",
    "figure['layout']['sliders'] = [sliders_dict]"
   ]
  },
  {
   "cell_type": "code",
   "execution_count": null,
   "metadata": {},
   "outputs": [],
   "source": [
    "py.icreate_animations(figure, 'gapminder_example'+str(time.time()))"
   ]
  },
  {
   "cell_type": "code",
   "execution_count": null,
   "metadata": {},
   "outputs": [],
   "source": []
  }
 ],
 "metadata": {
  "kernelspec": {
   "display_name": "Python 3",
   "language": "python",
   "name": "python3"
  },
  "language_info": {
   "codemirror_mode": {
    "name": "ipython",
    "version": 3
   },
   "file_extension": ".py",
   "mimetype": "text/x-python",
   "name": "python",
   "nbconvert_exporter": "python",
   "pygments_lexer": "ipython3",
   "version": "3.6.3"
  }
 },
 "nbformat": 4,
 "nbformat_minor": 2
}
